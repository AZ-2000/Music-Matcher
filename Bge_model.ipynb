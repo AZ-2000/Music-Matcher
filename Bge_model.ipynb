{
 "cells": [
  {
   "cell_type": "code",
   "execution_count": 2,
   "id": "7704c2ab-d609-4da3-8036-85d5c91b7dc2",
   "metadata": {},
   "outputs": [],
   "source": [
    "from datasets import load_dataset\n",
    "import re\n",
    "from sentence_transformers import SentenceTransformer\n",
    "import faiss\n",
    "import numpy as np\n",
    "import pandas as pd"
   ]
  },
  {
   "cell_type": "code",
   "execution_count": 6,
   "id": "9d748451-df49-4d9d-a8ba-5b2427bf60c0",
   "metadata": {},
   "outputs": [
    {
     "data": {
      "text/html": [
       "<div>\n",
       "<style scoped>\n",
       "    .dataframe tbody tr th:only-of-type {\n",
       "        vertical-align: middle;\n",
       "    }\n",
       "\n",
       "    .dataframe tbody tr th {\n",
       "        vertical-align: top;\n",
       "    }\n",
       "\n",
       "    .dataframe thead th {\n",
       "        text-align: right;\n",
       "    }\n",
       "</style>\n",
       "<table border=\"1\" class=\"dataframe\">\n",
       "  <thead>\n",
       "    <tr style=\"text-align: right;\">\n",
       "      <th></th>\n",
       "      <th>clean lyrics</th>\n",
       "      <th>embedded</th>\n",
       "    </tr>\n",
       "  </thead>\n",
       "  <tbody>\n",
       "    <tr>\n",
       "      <th>0</th>\n",
       "      <td>are you alright i m alright i m quite alright ...</td>\n",
       "      <td>[-0.09510867297649384, -0.052341993898153305, ...</td>\n",
       "    </tr>\n",
       "    <tr>\n",
       "      <th>1</th>\n",
       "      <td>we pick up in new york city i m tryna find a m...</td>\n",
       "      <td>[-0.020572615787386894, -0.07993195205926895, ...</td>\n",
       "    </tr>\n",
       "    <tr>\n",
       "      <th>2</th>\n",
       "      <td>baby you a song you make me wanna roll my wind...</td>\n",
       "      <td>[-0.027859799563884735, -0.03636902943253517, ...</td>\n",
       "    </tr>\n",
       "    <tr>\n",
       "      <th>3</th>\n",
       "      <td>baby last night was hands down one of the best...</td>\n",
       "      <td>[-0.02230849675834179, -0.0188309233635664, 0....</td>\n",
       "    </tr>\n",
       "    <tr>\n",
       "      <th>4</th>\n",
       "      <td>you make me feel so young you make me feel as ...</td>\n",
       "      <td>[-0.03834763541817665, -0.03280093893408775, 0...</td>\n",
       "    </tr>\n",
       "  </tbody>\n",
       "</table>\n",
       "</div>"
      ],
      "text/plain": [
       "                                        clean lyrics  \\\n",
       "0  are you alright i m alright i m quite alright ...   \n",
       "1  we pick up in new york city i m tryna find a m...   \n",
       "2  baby you a song you make me wanna roll my wind...   \n",
       "3  baby last night was hands down one of the best...   \n",
       "4  you make me feel so young you make me feel as ...   \n",
       "\n",
       "                                            embedded  \n",
       "0  [-0.09510867297649384, -0.052341993898153305, ...  \n",
       "1  [-0.020572615787386894, -0.07993195205926895, ...  \n",
       "2  [-0.027859799563884735, -0.03636902943253517, ...  \n",
       "3  [-0.02230849675834179, -0.0188309233635664, 0....  \n",
       "4  [-0.03834763541817665, -0.03280093893408775, 0...  "
      ]
     },
     "execution_count": 6,
     "metadata": {},
     "output_type": "execute_result"
    }
   ],
   "source": [
    "df = pd.read_parquet('vscode_vectors_bge.parquet')  # optionally add engine='pyarrow' or 'fastparquet'\n",
    "df.head()"
   ]
  },
  {
   "cell_type": "code",
   "execution_count": 8,
   "id": "514fe509-a6b4-4be3-a1fd-c9a42b22fa47",
   "metadata": {},
   "outputs": [
    {
     "data": {
      "text/plain": [
       "array([[-9.5108673e-02, -5.2341994e-02,  2.9881362e-02, ...,\n",
       "         4.3037690e-02, -1.4177671e-02, -2.1796750e-02],\n",
       "       [-2.0572616e-02, -7.9931952e-02,  4.0240899e-02, ...,\n",
       "         1.6816258e-02, -7.6525152e-02, -1.5770495e-02],\n",
       "       [-2.7859800e-02, -3.6369029e-02,  7.4195705e-02, ...,\n",
       "         3.5594774e-03, -3.9827251e-03,  1.5726753e-02],\n",
       "       ...,\n",
       "       [-1.1820935e-04,  1.6659580e-02,  2.2597142e-02, ...,\n",
       "         8.7751560e-02, -9.5417341e-03, -2.7034365e-02],\n",
       "       [-7.4566141e-02, -1.4757029e-02,  3.7393596e-02, ...,\n",
       "         3.9951306e-02,  2.7222736e-03, -4.2417862e-02],\n",
       "       [-3.5246432e-02, -2.8395848e-02,  2.8976936e-02, ...,\n",
       "         1.2137246e-01, -4.1237038e-02, -1.7751783e-02]], dtype=float32)"
      ]
     },
     "execution_count": 8,
     "metadata": {},
     "output_type": "execute_result"
    }
   ],
   "source": [
    "array = np.vstack(df[\"embedded\"].values).astype(\"float32\")\n",
    "array"
   ]
  },
  {
   "cell_type": "code",
   "execution_count": 10,
   "id": "f228115e-a8e4-4bcd-a13f-d4d5fa22cd25",
   "metadata": {},
   "outputs": [
    {
     "name": "stdout",
     "output_type": "stream",
     "text": [
      "All vectors normalized: True\n"
     ]
    }
   ],
   "source": [
    "norms = np.linalg.norm(array, axis=1)\n",
    "all_normalized = np.allclose(norms, 1.0, atol=1e-6) \n",
    "print(\"All vectors normalized:\", all_normalized)\n"
   ]
  },
  {
   "cell_type": "code",
   "execution_count": 12,
   "id": "222cef93-0b25-42e8-a2e1-fa75b225e48b",
   "metadata": {},
   "outputs": [
    {
     "data": {
      "text/plain": [
       "384"
      ]
     },
     "execution_count": 12,
     "metadata": {},
     "output_type": "execute_result"
    }
   ],
   "source": [
    "dim = array.shape[1]\n",
    "dim"
   ]
  },
  {
   "cell_type": "code",
   "execution_count": 14,
   "id": "f27975ee-4b80-4808-a4aa-44b81c9d9668",
   "metadata": {},
   "outputs": [
    {
     "data": {
      "text/plain": [
       "<faiss.swigfaiss_avx2.IndexHNSWFlat; proxy of <Swig Object of type 'faiss::IndexHNSWFlat *' at 0x000001AC05F2FC90> >"
      ]
     },
     "execution_count": 14,
     "metadata": {},
     "output_type": "execute_result"
    }
   ],
   "source": [
    "index = faiss.IndexHNSWFlat(dim, 48, faiss.METRIC_INNER_PRODUCT)\n",
    "index"
   ]
  },
  {
   "cell_type": "code",
   "execution_count": 16,
   "id": "78a71c38-2866-4925-ad57-fa380f3e0341",
   "metadata": {},
   "outputs": [],
   "source": [
    "index.hnsw.efConstruction = 500\n",
    "index.hnsw.efSearch = 64\n"
   ]
  },
  {
   "cell_type": "code",
   "execution_count": 18,
   "id": "3bc571b9-47b4-4ae8-8290-5d8d7347aceb",
   "metadata": {},
   "outputs": [
    {
     "data": {
      "text/plain": [
       "25000"
      ]
     },
     "execution_count": 18,
     "metadata": {},
     "output_type": "execute_result"
    }
   ],
   "source": [
    "index.add(array)  \n",
    "index.ntotal"
   ]
  },
  {
   "cell_type": "code",
   "execution_count": 20,
   "id": "43ee1c14-7328-4bdc-8097-e34715ea5ade",
   "metadata": {},
   "outputs": [],
   "source": [
    "def clean_text(text):\n",
    "    text = text.lower()\n",
    "    text = re.sub(r\"\\[.*?\\]\", \"\", text)  # remove [Verse], [Chorus]\n",
    "    text = re.sub(r\"[^a-zA-Z\\s]\", \"\", text)  # remove punctuation\n",
    "    text = re.sub(r\"\\s+\", \" \", text).strip()  # remove extra spaces\n",
    "    return text"
   ]
  },
  {
   "cell_type": "code",
   "execution_count": 26,
   "id": "8896730b-404d-4e68-b4be-4888e7d1f82a",
   "metadata": {},
   "outputs": [],
   "source": [
    "model_bge = SentenceTransformer(\"BAAI/bge-small-en-v1.5\")"
   ]
  },
  {
   "cell_type": "code",
   "execution_count": 28,
   "id": "016b8be4-1a3b-45b3-bbc1-b6bd6fd261c5",
   "metadata": {},
   "outputs": [],
   "source": [
    "def query_model_bge(text):\n",
    "    clean_text(text)\n",
    "    query = model_bge.encode(text, convert_to_numpy=True)\n",
    "    D, I = index.search(np.expand_dims(query, axis=0), k=5)\n",
    "    return I, D"
   ]
  },
  {
   "cell_type": "code",
   "execution_count": 30,
   "id": "25a9288e-8a1a-4b2d-98dd-a6d8374d9345",
   "metadata": {},
   "outputs": [
    {
     "name": "stdout",
     "output_type": "stream",
     "text": [
      "Top 5 Similar Indices: [[    0  9169 10696 18536  8237]]\n",
      "Similarity Scores: [[1.         0.86578244 0.8650054  0.8633137  0.8606238 ]]\n"
     ]
    }
   ],
   "source": [
    "I, D = query_model_bge(\"are you alright i m alright i m quite alright and my money s right countin them bands all way to the top til they be fallin over countin them bands on my way to the top til we fallin over i don t really care if you cry on the real you shoulda never lied shoulda saw the way she looked me in my eyes she said baby i am not afraid to die push me to the edge all my friends are dead push me to the edge all my friends are dead push me to the edge all my friends are dead push me to the edge phantom that s all red inside all white like somethin you ride a sled down i just want that head my brittany got mad i m barely her man now everybody got the same swag now watch the way that i tear it down stackin my bands all the way to the top all the way til my bands fallin over every time that you leave your spot your girlfriend call me like come on over i like the way that she treat me gon leave you won t leave me i call it that casanova she say i m insane yeah i might blow my brain out xanny help the pain yeah please xanny make it go away i m committed not addicted but it keep control of me all the pain now i can t feel it i swear that it s slowin me yeah i don t really care if you cry on the real you shoulda never lied saw the way she looked me in my eyes she said i am not afraid to die all my friends are dead push me to the edge all my friends are dead yeah ooh push me to the edge all my friends are dead yeah all my friends are dead yeah that is not your swag i swear you fake hard now these niggas wanna take my cadence rain on em thunderstorm rain on em medicine lil nigga take some fast car nascar race on em in the club ain t got no ones then we would beg them clothes from overseas got the racks and they all c notes you is not a g though lookin at you stackin all your money it all green though i was countin that and these all twenties that s a g roll she say you re the worst you re the worst i cannot die because this my universe i don t really care if you cry on the real you shoulda never lied shoulda saw the way she looked me in my eyes she said baby i am not afraid to die push me to the edge all my friends are dead push me to the edge all my friends are dead push me to the edge all my friends are dead push me to the edge\")\n",
    "print(\"Top 5 Similar Indices:\", I)\n",
    "print(\"Similarity Scores:\", D)"
   ]
  },
  {
   "cell_type": "code",
   "execution_count": 44,
   "id": "d7487750-e470-431a-b91f-e0d9afdfc795",
   "metadata": {},
   "outputs": [
    {
     "name": "stderr",
     "output_type": "stream",
     "text": [
      "100%|██████████████████████████████████████████████████████████████████████████████| 1000/1000 [00:20<00:00, 49.05it/s]\n"
     ]
    }
   ],
   "source": [
    "import pandas as pd\n",
    "import numpy as np\n",
    "from tqdm import tqdm\n",
    "import random\n",
    "# Step 1: Sample 200 random rows from your dataframe\n",
    "sample_df = df.sample(n=1000, random_state=31).reset_index(drop=True)\n",
    "\n",
    "# Step 2: Create a results list\n",
    "\n",
    "\n",
    "results = []\n",
    "\n",
    "for i, row in tqdm(sample_df.iterrows(), total=sample_df.shape[0]):\n",
    "    full_lyric = row[\"clean lyrics\"]\n",
    "    words = full_lyric.split()\n",
    "\n",
    "    # Skip if lyric is too short\n",
    "    if len(words) < 20:\n",
    "        continue\n",
    "\n",
    "    start_idx = random.randint(5, len(words) - 10 - 1)\n",
    "    mid_lyric = \" \".join(words[start_idx:start_idx + 10])\n",
    "\n",
    "    I_1, D_1 = query_model_bge(mid_lyric)\n",
    "\n",
    "    for rank, (score, idx) in enumerate(zip(D_1[0], I_1[0]), start=1):\n",
    "        result = {\n",
    "            \"query_index\": i,\n",
    "            \"query_snippet\": mid_lyric,\n",
    "            \"original_full_lyric\": full_lyric,\n",
    "            \"result_rank\": rank,\n",
    "            \"result_index\": idx,\n",
    "            \"result_lyric\": df.iloc[idx][\"clean lyrics\"],\n",
    "            \"result_artist\": df.iloc[idx].get(\"artist_name\", \"Unknown\"),\n",
    "            \"similarity_score\": float(score),\n",
    "        }\n",
    "        results.append(result)\n",
    "\n",
    "results_df_bge = pd.DataFrame(results)\n",
    "results_df_bge.to_csv(\"bge_sim.csv\", index=False)\n"
   ]
  },
  {
   "cell_type": "code",
   "execution_count": 46,
   "id": "5aeee795-7d67-4964-aaba-70ce1891e78d",
   "metadata": {},
   "outputs": [
    {
     "name": "stdout",
     "output_type": "stream",
     "text": [
      "Average Top Similarity Score: 0.7438\n"
     ]
    }
   ],
   "source": [
    "def average_top_similarity(results_df):\n",
    "    # Group by each query\n",
    "    grouped = results_df.groupby(\"query_index\")\n",
    "    \n",
    "    # For each group, take the top-ranked result (rank 1) and get its score\n",
    "    top_scores = grouped.apply(lambda x: x.sort_values(\"result_rank\").iloc[0][\"similarity_score\"])\n",
    "    \n",
    "    # Return the average\n",
    "    return top_scores.mean()\n",
    "avg_score = average_top_similarity(results_df_bge)\n",
    "print(f\"Average Top Similarity Score: {avg_score:.4f}\")\n"
   ]
  },
  {
   "cell_type": "code",
   "execution_count": null,
   "id": "386e0432-1b82-47c7-9f65-97115de8680b",
   "metadata": {},
   "outputs": [],
   "source": []
  }
 ],
 "metadata": {
  "kernelspec": {
   "display_name": "Python 3 (ipykernel)",
   "language": "python",
   "name": "python3"
  },
  "language_info": {
   "codemirror_mode": {
    "name": "ipython",
    "version": 3
   },
   "file_extension": ".py",
   "mimetype": "text/x-python",
   "name": "python",
   "nbconvert_exporter": "python",
   "pygments_lexer": "ipython3",
   "version": "3.11.7"
  }
 },
 "nbformat": 4,
 "nbformat_minor": 5
}
