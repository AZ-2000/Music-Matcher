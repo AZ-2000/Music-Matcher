{
 "cells": [
  {
   "cell_type": "code",
   "execution_count": 1,
   "id": "cb547ffc-4e3f-4e5a-9c92-04dd5469d52b",
   "metadata": {},
   "outputs": [],
   "source": [
    "from datasets import load_dataset\n",
    "import re\n",
    "from sentence_transformers import SentenceTransformer\n",
    "import faiss\n",
    "import numpy as np\n"
   ]
  },
  {
   "cell_type": "code",
   "execution_count": 2,
   "id": "87ab2db7-ef50-41a9-894b-74e96daa9c8f",
   "metadata": {},
   "outputs": [],
   "source": [
    "def read_data():\n",
    "    ds = load_dataset(\"brunokreiner/genius-lyrics\")\n",
    "    return ds"
   ]
  },
  {
   "cell_type": "code",
   "execution_count": 3,
   "id": "0d9867e9-0e9e-4ee8-8006-9ba67f40b3c8",
   "metadata": {},
   "outputs": [],
   "source": [
    "new_ds = read_data()"
   ]
  },
  {
   "cell_type": "code",
   "execution_count": 7,
   "id": "d19ad2b4-019f-4383-b5a1-77e74b760297",
   "metadata": {},
   "outputs": [],
   "source": [
    "def load_training_testing_into_panda(ds):    \n",
    "    ds_df = ds[\"train\"].to_pandas()\n",
    "    new_ds_df = ds_df[[\"lyrics\",\"artist_name\"]]\n",
    "    new_ds_df.dropna(subset=[\"lyrics\",\"artist_name\"], inplace=True)\n",
    "    return new_ds_df"
   ]
  },
  {
   "cell_type": "code",
   "execution_count": 9,
   "id": "6e280d5d-a00b-458a-a112-87ad7068a118",
   "metadata": {},
   "outputs": [
    {
     "name": "stderr",
     "output_type": "stream",
     "text": [
      "C:\\Users\\DEll\\AppData\\Local\\Temp\\ipykernel_24400\\4134491497.py:4: SettingWithCopyWarning: \n",
      "A value is trying to be set on a copy of a slice from a DataFrame\n",
      "\n",
      "See the caveats in the documentation: https://pandas.pydata.org/pandas-docs/stable/user_guide/indexing.html#returning-a-view-versus-a-copy\n",
      "  new_ds_df.dropna(subset=[\"lyrics\",\"artist_name\"], inplace=True)\n"
     ]
    },
    {
     "data": {
      "text/plain": [
       "49985"
      ]
     },
     "execution_count": 9,
     "metadata": {},
     "output_type": "execute_result"
    }
   ],
   "source": [
    "df = load_training_testing_into_panda(new_ds)\n",
    "df.head()\n",
    "len(df)"
   ]
  },
  {
   "cell_type": "code",
   "execution_count": 11,
   "id": "9258a04a-e4d8-4101-8d43-e71782294e99",
   "metadata": {},
   "outputs": [],
   "source": [
    "def clean_text(text):\n",
    "    text = text.lower()\n",
    "    text = re.sub(r\"\\[.*?\\]\", \"\", text)  # remove [Verse], [Chorus]\n",
    "    text = re.sub(r\"[^a-zA-Z\\s]\", \"\", text)  # remove punctuation\n",
    "    text = re.sub(r\"\\s+\", \" \", text).strip()  # remove extra spaces\n",
    "    return text"
   ]
  },
  {
   "cell_type": "code",
   "execution_count": 13,
   "id": "379971e5-d349-4275-a0ff-d6961b27fd54",
   "metadata": {},
   "outputs": [
    {
     "data": {
      "text/plain": [
       "49985"
      ]
     },
     "execution_count": 13,
     "metadata": {},
     "output_type": "execute_result"
    }
   ],
   "source": [
    "df[\"clean lyrics\"] = df[\"lyrics\"].apply(clean_text)\n",
    "len(df)"
   ]
  },
  {
   "cell_type": "code",
   "execution_count": 14,
   "id": "2f1e0a5a-683f-4da5-8b6c-bb0ca74b84ac",
   "metadata": {},
   "outputs": [],
   "source": [
    "def number_of_entries(df, number):\n",
    "    df_num = df.head(number).copy()\n",
    "    return df_num\n",
    "df_25k = number_of_entries(df, 25000)\n"
   ]
  },
  {
   "cell_type": "code",
   "execution_count": 17,
   "id": "639e0604-b6ee-4c10-a41c-db3d9216fecf",
   "metadata": {},
   "outputs": [
    {
     "data": {
      "text/plain": [
       "25000"
      ]
     },
     "execution_count": 17,
     "metadata": {},
     "output_type": "execute_result"
    }
   ],
   "source": [
    "len(df_25k)"
   ]
  },
  {
   "cell_type": "code",
   "execution_count": 25,
   "id": "6ad75744-facf-42bf-a32c-2ce1fd8651f1",
   "metadata": {},
   "outputs": [
    {
     "data": {
      "text/html": [
       "<div>\n",
       "<style scoped>\n",
       "    .dataframe tbody tr th:only-of-type {\n",
       "        vertical-align: middle;\n",
       "    }\n",
       "\n",
       "    .dataframe tbody tr th {\n",
       "        vertical-align: top;\n",
       "    }\n",
       "\n",
       "    .dataframe thead th {\n",
       "        text-align: right;\n",
       "    }\n",
       "</style>\n",
       "<table border=\"1\" class=\"dataframe\">\n",
       "  <thead>\n",
       "    <tr style=\"text-align: right;\">\n",
       "      <th></th>\n",
       "      <th>index</th>\n",
       "      <th>lyrics</th>\n",
       "      <th>artist_name</th>\n",
       "      <th>clean lyrics</th>\n",
       "    </tr>\n",
       "  </thead>\n",
       "  <tbody>\n",
       "    <tr>\n",
       "      <th>0</th>\n",
       "      <td>2</td>\n",
       "      <td>are you alright i m alright i m quite alright ...</td>\n",
       "      <td>Lil Uzi Vert</td>\n",
       "      <td>are you alright i m alright i m quite alright ...</td>\n",
       "    </tr>\n",
       "    <tr>\n",
       "      <th>1</th>\n",
       "      <td>6</td>\n",
       "      <td>we pick up in new york city i m tryna find a m...</td>\n",
       "      <td>John Mayer</td>\n",
       "      <td>we pick up in new york city i m tryna find a m...</td>\n",
       "    </tr>\n",
       "    <tr>\n",
       "      <th>2</th>\n",
       "      <td>24</td>\n",
       "      <td>baby you a song you make me wanna roll my wind...</td>\n",
       "      <td>Florida Georgia Line</td>\n",
       "      <td>baby you a song you make me wanna roll my wind...</td>\n",
       "    </tr>\n",
       "    <tr>\n",
       "      <th>3</th>\n",
       "      <td>26</td>\n",
       "      <td>baby last night was hands down one of the best...</td>\n",
       "      <td>Thomas Rhett</td>\n",
       "      <td>baby last night was hands down one of the best...</td>\n",
       "    </tr>\n",
       "    <tr>\n",
       "      <th>4</th>\n",
       "      <td>30</td>\n",
       "      <td>you make me feel so young you make me feel as ...</td>\n",
       "      <td>Michael Bublé</td>\n",
       "      <td>you make me feel so young you make me feel as ...</td>\n",
       "    </tr>\n",
       "    <tr>\n",
       "      <th>...</th>\n",
       "      <td>...</td>\n",
       "      <td>...</td>\n",
       "      <td>...</td>\n",
       "      <td>...</td>\n",
       "    </tr>\n",
       "    <tr>\n",
       "      <th>24995</th>\n",
       "      <td>240248</td>\n",
       "      <td>ronnie talk to russia before its too late befo...</td>\n",
       "      <td>Prince</td>\n",
       "      <td>ronnie talk to russia before its too late befo...</td>\n",
       "    </tr>\n",
       "    <tr>\n",
       "      <th>24996</th>\n",
       "      <td>240251</td>\n",
       "      <td>it took five women to get you off of my mind i...</td>\n",
       "      <td>Prince</td>\n",
       "      <td>it took five women to get you off of my mind i...</td>\n",
       "    </tr>\n",
       "    <tr>\n",
       "      <th>24997</th>\n",
       "      <td>240252</td>\n",
       "      <td>sex temptation lust pop go mama everybody on t...</td>\n",
       "      <td>Prince</td>\n",
       "      <td>sex temptation lust pop go mama everybody on t...</td>\n",
       "    </tr>\n",
       "    <tr>\n",
       "      <th>24998</th>\n",
       "      <td>240260</td>\n",
       "      <td>lay down your funky weapon yeah y all here we ...</td>\n",
       "      <td>Prince</td>\n",
       "      <td>lay down your funky weapon yeah y all here we ...</td>\n",
       "    </tr>\n",
       "    <tr>\n",
       "      <th>24999</th>\n",
       "      <td>240268</td>\n",
       "      <td>you can have your space i think i m too close ...</td>\n",
       "      <td>Prince</td>\n",
       "      <td>you can have your space i think i m too close ...</td>\n",
       "    </tr>\n",
       "  </tbody>\n",
       "</table>\n",
       "<p>25000 rows × 4 columns</p>\n",
       "</div>"
      ],
      "text/plain": [
       "        index                                             lyrics  \\\n",
       "0           2  are you alright i m alright i m quite alright ...   \n",
       "1           6  we pick up in new york city i m tryna find a m...   \n",
       "2          24  baby you a song you make me wanna roll my wind...   \n",
       "3          26  baby last night was hands down one of the best...   \n",
       "4          30  you make me feel so young you make me feel as ...   \n",
       "...       ...                                                ...   \n",
       "24995  240248  ronnie talk to russia before its too late befo...   \n",
       "24996  240251  it took five women to get you off of my mind i...   \n",
       "24997  240252  sex temptation lust pop go mama everybody on t...   \n",
       "24998  240260  lay down your funky weapon yeah y all here we ...   \n",
       "24999  240268  you can have your space i think i m too close ...   \n",
       "\n",
       "                artist_name                                       clean lyrics  \n",
       "0              Lil Uzi Vert  are you alright i m alright i m quite alright ...  \n",
       "1                John Mayer  we pick up in new york city i m tryna find a m...  \n",
       "2      Florida Georgia Line  baby you a song you make me wanna roll my wind...  \n",
       "3              Thomas Rhett  baby last night was hands down one of the best...  \n",
       "4             Michael Bublé  you make me feel so young you make me feel as ...  \n",
       "...                     ...                                                ...  \n",
       "24995                Prince  ronnie talk to russia before its too late befo...  \n",
       "24996                Prince  it took five women to get you off of my mind i...  \n",
       "24997                Prince  sex temptation lust pop go mama everybody on t...  \n",
       "24998                Prince  lay down your funky weapon yeah y all here we ...  \n",
       "24999                Prince  you can have your space i think i m too close ...  \n",
       "\n",
       "[25000 rows x 4 columns]"
      ]
     },
     "execution_count": 25,
     "metadata": {},
     "output_type": "execute_result"
    }
   ],
   "source": [
    "df_25k.reset_index(inplace=True)\n",
    "\n",
    "df_25k"
   ]
  },
  {
   "cell_type": "code",
   "execution_count": 31,
   "id": "91b645e3-ce95-4f93-98c7-f7bf04818a1c",
   "metadata": {},
   "outputs": [
    {
     "data": {
      "text/html": [
       "<div>\n",
       "<style scoped>\n",
       "    .dataframe tbody tr th:only-of-type {\n",
       "        vertical-align: middle;\n",
       "    }\n",
       "\n",
       "    .dataframe tbody tr th {\n",
       "        vertical-align: top;\n",
       "    }\n",
       "\n",
       "    .dataframe thead th {\n",
       "        text-align: right;\n",
       "    }\n",
       "</style>\n",
       "<table border=\"1\" class=\"dataframe\">\n",
       "  <thead>\n",
       "    <tr style=\"text-align: right;\">\n",
       "      <th></th>\n",
       "      <th>lyrics</th>\n",
       "      <th>artist_name</th>\n",
       "    </tr>\n",
       "  </thead>\n",
       "  <tbody>\n",
       "    <tr>\n",
       "      <th>0</th>\n",
       "      <td>are you alright i m alright i m quite alright ...</td>\n",
       "      <td>Lil Uzi Vert</td>\n",
       "    </tr>\n",
       "    <tr>\n",
       "      <th>1</th>\n",
       "      <td>we pick up in new york city i m tryna find a m...</td>\n",
       "      <td>John Mayer</td>\n",
       "    </tr>\n",
       "    <tr>\n",
       "      <th>2</th>\n",
       "      <td>baby you a song you make me wanna roll my wind...</td>\n",
       "      <td>Florida Georgia Line</td>\n",
       "    </tr>\n",
       "    <tr>\n",
       "      <th>3</th>\n",
       "      <td>baby last night was hands down one of the best...</td>\n",
       "      <td>Thomas Rhett</td>\n",
       "    </tr>\n",
       "    <tr>\n",
       "      <th>4</th>\n",
       "      <td>you make me feel so young you make me feel as ...</td>\n",
       "      <td>Michael Bublé</td>\n",
       "    </tr>\n",
       "  </tbody>\n",
       "</table>\n",
       "</div>"
      ],
      "text/plain": [
       "                                              lyrics           artist_name\n",
       "0  are you alright i m alright i m quite alright ...          Lil Uzi Vert\n",
       "1  we pick up in new york city i m tryna find a m...            John Mayer\n",
       "2  baby you a song you make me wanna roll my wind...  Florida Georgia Line\n",
       "3  baby last night was hands down one of the best...          Thomas Rhett\n",
       "4  you make me feel so young you make me feel as ...         Michael Bublé"
      ]
     },
     "execution_count": 31,
     "metadata": {},
     "output_type": "execute_result"
    }
   ],
   "source": [
    "df_25k.drop(columns=['clean lyrics'], inplace = True)\n",
    "df_25k.head()"
   ]
  },
  {
   "cell_type": "code",
   "execution_count": 33,
   "id": "da62a65b-2d8a-478a-9fb2-3019d764f705",
   "metadata": {},
   "outputs": [],
   "source": [
    "df_25k.to_parquet(\"df_25k.parquet\")"
   ]
  },
  {
   "cell_type": "code",
   "execution_count": 21,
   "id": "15828461-9c5b-4d08-9981-c6a4638208a3",
   "metadata": {},
   "outputs": [],
   "source": [
    "model = SentenceTransformer(\"all-MiniLM-L6-v2\")"
   ]
  },
  {
   "cell_type": "code",
   "execution_count": 27,
   "id": "3e883b87-439e-488e-af5f-f1698a390197",
   "metadata": {},
   "outputs": [
    {
     "data": {
      "application/vnd.jupyter.widget-view+json": {
       "model_id": "26c9db3a058b470e925b5ff3cddd4d7d",
       "version_major": 2,
       "version_minor": 0
      },
      "text/plain": [
       "modules.json:   0%|          | 0.00/349 [00:00<?, ?B/s]"
      ]
     },
     "metadata": {},
     "output_type": "display_data"
    },
    {
     "name": "stderr",
     "output_type": "stream",
     "text": [
      "C:\\Users\\DEll\\anaconda3\\Lib\\site-packages\\huggingface_hub\\file_download.py:143: UserWarning: `huggingface_hub` cache-system uses symlinks by default to efficiently store duplicated files but your machine does not support them in C:\\Users\\DEll\\.cache\\huggingface\\hub\\models--BAAI--bge-small-en-v1.5. Caching files will still work but in a degraded version that might require more space on your disk. This warning can be disabled by setting the `HF_HUB_DISABLE_SYMLINKS_WARNING` environment variable. For more details, see https://huggingface.co/docs/huggingface_hub/how-to-cache#limitations.\n",
      "To support symlinks on Windows, you either need to activate Developer Mode or to run Python as an administrator. In order to activate developer mode, see this article: https://docs.microsoft.com/en-us/windows/apps/get-started/enable-your-device-for-development\n",
      "  warnings.warn(message)\n"
     ]
    },
    {
     "data": {
      "application/vnd.jupyter.widget-view+json": {
       "model_id": "0f4d86cca13445f494c6b65d6b3dcfce",
       "version_major": 2,
       "version_minor": 0
      },
      "text/plain": [
       "config_sentence_transformers.json:   0%|          | 0.00/124 [00:00<?, ?B/s]"
      ]
     },
     "metadata": {},
     "output_type": "display_data"
    },
    {
     "data": {
      "application/vnd.jupyter.widget-view+json": {
       "model_id": "b532674c39f84dbba668e77ae1383b5e",
       "version_major": 2,
       "version_minor": 0
      },
      "text/plain": [
       "README.md: 0.00B [00:00, ?B/s]"
      ]
     },
     "metadata": {},
     "output_type": "display_data"
    },
    {
     "data": {
      "application/vnd.jupyter.widget-view+json": {
       "model_id": "55c1b794cd72479bbbdaa3fc5f612692",
       "version_major": 2,
       "version_minor": 0
      },
      "text/plain": [
       "sentence_bert_config.json:   0%|          | 0.00/52.0 [00:00<?, ?B/s]"
      ]
     },
     "metadata": {},
     "output_type": "display_data"
    },
    {
     "data": {
      "application/vnd.jupyter.widget-view+json": {
       "model_id": "20806b79193c4958aafccc9c3a438d39",
       "version_major": 2,
       "version_minor": 0
      },
      "text/plain": [
       "config.json:   0%|          | 0.00/743 [00:00<?, ?B/s]"
      ]
     },
     "metadata": {},
     "output_type": "display_data"
    },
    {
     "data": {
      "application/vnd.jupyter.widget-view+json": {
       "model_id": "db3204d4ea3145e987deff0076bdae50",
       "version_major": 2,
       "version_minor": 0
      },
      "text/plain": [
       "model.safetensors:   0%|          | 0.00/133M [00:00<?, ?B/s]"
      ]
     },
     "metadata": {},
     "output_type": "display_data"
    },
    {
     "data": {
      "application/vnd.jupyter.widget-view+json": {
       "model_id": "9a58019dc1754063b067551b0a37b4b3",
       "version_major": 2,
       "version_minor": 0
      },
      "text/plain": [
       "tokenizer_config.json:   0%|          | 0.00/366 [00:00<?, ?B/s]"
      ]
     },
     "metadata": {},
     "output_type": "display_data"
    },
    {
     "data": {
      "application/vnd.jupyter.widget-view+json": {
       "model_id": "c68e6930495f48ef9835f7397d8a270b",
       "version_major": 2,
       "version_minor": 0
      },
      "text/plain": [
       "vocab.txt: 0.00B [00:00, ?B/s]"
      ]
     },
     "metadata": {},
     "output_type": "display_data"
    },
    {
     "data": {
      "application/vnd.jupyter.widget-view+json": {
       "model_id": "18255e8fe1ee4cccb2c3cd89460b7a33",
       "version_major": 2,
       "version_minor": 0
      },
      "text/plain": [
       "tokenizer.json: 0.00B [00:00, ?B/s]"
      ]
     },
     "metadata": {},
     "output_type": "display_data"
    },
    {
     "data": {
      "application/vnd.jupyter.widget-view+json": {
       "model_id": "58d57984dbda4824afde2d49d00c04ad",
       "version_major": 2,
       "version_minor": 0
      },
      "text/plain": [
       "special_tokens_map.json:   0%|          | 0.00/125 [00:00<?, ?B/s]"
      ]
     },
     "metadata": {},
     "output_type": "display_data"
    },
    {
     "data": {
      "application/vnd.jupyter.widget-view+json": {
       "model_id": "37f997374ba14429a1535815da6bcf45",
       "version_major": 2,
       "version_minor": 0
      },
      "text/plain": [
       "config.json:   0%|          | 0.00/190 [00:00<?, ?B/s]"
      ]
     },
     "metadata": {},
     "output_type": "display_data"
    }
   ],
   "source": [
    "model_bge = SentenceTransformer(\"BAAI/bge-small-en-v1.5\")"
   ]
  },
  {
   "cell_type": "code",
   "execution_count": 37,
   "id": "8f8f75d4-396f-46ac-9a0f-57a771707f5f",
   "metadata": {},
   "outputs": [
    {
     "data": {
      "text/html": [
       "<div>\n",
       "<style scoped>\n",
       "    .dataframe tbody tr th:only-of-type {\n",
       "        vertical-align: middle;\n",
       "    }\n",
       "\n",
       "    .dataframe tbody tr th {\n",
       "        vertical-align: top;\n",
       "    }\n",
       "\n",
       "    .dataframe thead th {\n",
       "        text-align: right;\n",
       "    }\n",
       "</style>\n",
       "<table border=\"1\" class=\"dataframe\">\n",
       "  <thead>\n",
       "    <tr style=\"text-align: right;\">\n",
       "      <th></th>\n",
       "      <th>clean lyrics</th>\n",
       "    </tr>\n",
       "  </thead>\n",
       "  <tbody>\n",
       "    <tr>\n",
       "      <th>2</th>\n",
       "      <td>are you alright i m alright i m quite alright ...</td>\n",
       "    </tr>\n",
       "    <tr>\n",
       "      <th>6</th>\n",
       "      <td>we pick up in new york city i m tryna find a m...</td>\n",
       "    </tr>\n",
       "    <tr>\n",
       "      <th>24</th>\n",
       "      <td>baby you a song you make me wanna roll my wind...</td>\n",
       "    </tr>\n",
       "    <tr>\n",
       "      <th>26</th>\n",
       "      <td>baby last night was hands down one of the best...</td>\n",
       "    </tr>\n",
       "    <tr>\n",
       "      <th>30</th>\n",
       "      <td>you make me feel so young you make me feel as ...</td>\n",
       "    </tr>\n",
       "  </tbody>\n",
       "</table>\n",
       "</div>"
      ],
      "text/plain": [
       "                                         clean lyrics\n",
       "2   are you alright i m alright i m quite alright ...\n",
       "6   we pick up in new york city i m tryna find a m...\n",
       "24  baby you a song you make me wanna roll my wind...\n",
       "26  baby last night was hands down one of the best...\n",
       "30  you make me feel so young you make me feel as ..."
      ]
     },
     "execution_count": 37,
     "metadata": {},
     "output_type": "execute_result"
    }
   ],
   "source": [
    "df_25k_bge = df_25k[[\"clean lyrics\"]]\n",
    "df_25k_bge.head()"
   ]
  },
  {
   "cell_type": "code",
   "execution_count": 39,
   "id": "216e2f6b-919f-4f6d-9d71-16be14df7df8",
   "metadata": {},
   "outputs": [
    {
     "data": {
      "text/html": [
       "<div>\n",
       "<style scoped>\n",
       "    .dataframe tbody tr th:only-of-type {\n",
       "        vertical-align: middle;\n",
       "    }\n",
       "\n",
       "    .dataframe tbody tr th {\n",
       "        vertical-align: top;\n",
       "    }\n",
       "\n",
       "    .dataframe thead th {\n",
       "        text-align: right;\n",
       "    }\n",
       "</style>\n",
       "<table border=\"1\" class=\"dataframe\">\n",
       "  <thead>\n",
       "    <tr style=\"text-align: right;\">\n",
       "      <th></th>\n",
       "      <th>clean lyrics</th>\n",
       "    </tr>\n",
       "  </thead>\n",
       "  <tbody>\n",
       "    <tr>\n",
       "      <th>0</th>\n",
       "      <td>are you alright i m alright i m quite alright ...</td>\n",
       "    </tr>\n",
       "    <tr>\n",
       "      <th>1</th>\n",
       "      <td>we pick up in new york city i m tryna find a m...</td>\n",
       "    </tr>\n",
       "    <tr>\n",
       "      <th>2</th>\n",
       "      <td>baby you a song you make me wanna roll my wind...</td>\n",
       "    </tr>\n",
       "    <tr>\n",
       "      <th>3</th>\n",
       "      <td>baby last night was hands down one of the best...</td>\n",
       "    </tr>\n",
       "    <tr>\n",
       "      <th>4</th>\n",
       "      <td>you make me feel so young you make me feel as ...</td>\n",
       "    </tr>\n",
       "  </tbody>\n",
       "</table>\n",
       "</div>"
      ],
      "text/plain": [
       "                                        clean lyrics\n",
       "0  are you alright i m alright i m quite alright ...\n",
       "1  we pick up in new york city i m tryna find a m...\n",
       "2  baby you a song you make me wanna roll my wind...\n",
       "3  baby last night was hands down one of the best...\n",
       "4  you make me feel so young you make me feel as ..."
      ]
     },
     "execution_count": 39,
     "metadata": {},
     "output_type": "execute_result"
    }
   ],
   "source": [
    "df_25k_bge.reset_index(drop=True, inplace=True)\n",
    "df_25k_bge.head()"
   ]
  },
  {
   "cell_type": "code",
   "execution_count": 41,
   "id": "e019fa5c-2fb3-45e2-951e-b01e11beacd2",
   "metadata": {},
   "outputs": [],
   "source": [
    "def embed_bge(df):\n",
    "    texts = df[\"clean lyrics\"].tolist()\n",
    "    embeddings = model_bge.encode(texts, batch_size=32, show_progress_bar=True)\n",
    "    df[\"embedded\"] = embeddings.tolist()\n",
    "    return df\n"
   ]
  },
  {
   "cell_type": "code",
   "execution_count": 43,
   "id": "3d379042-a7e5-4a47-9f36-044d0589385a",
   "metadata": {},
   "outputs": [
    {
     "data": {
      "application/vnd.jupyter.widget-view+json": {
       "model_id": "69fbf249589242df95984d05c16ba1c2",
       "version_major": 2,
       "version_minor": 0
      },
      "text/plain": [
       "Batches:   0%|          | 0/782 [00:00<?, ?it/s]"
      ]
     },
     "metadata": {},
     "output_type": "display_data"
    },
    {
     "name": "stderr",
     "output_type": "stream",
     "text": [
      "C:\\Users\\DEll\\AppData\\Local\\Temp\\ipykernel_9468\\148196416.py:4: SettingWithCopyWarning: \n",
      "A value is trying to be set on a copy of a slice from a DataFrame.\n",
      "Try using .loc[row_indexer,col_indexer] = value instead\n",
      "\n",
      "See the caveats in the documentation: https://pandas.pydata.org/pandas-docs/stable/user_guide/indexing.html#returning-a-view-versus-a-copy\n",
      "  df[\"embedded\"] = embeddings.tolist()\n"
     ]
    },
    {
     "data": {
      "text/html": [
       "<div>\n",
       "<style scoped>\n",
       "    .dataframe tbody tr th:only-of-type {\n",
       "        vertical-align: middle;\n",
       "    }\n",
       "\n",
       "    .dataframe tbody tr th {\n",
       "        vertical-align: top;\n",
       "    }\n",
       "\n",
       "    .dataframe thead th {\n",
       "        text-align: right;\n",
       "    }\n",
       "</style>\n",
       "<table border=\"1\" class=\"dataframe\">\n",
       "  <thead>\n",
       "    <tr style=\"text-align: right;\">\n",
       "      <th></th>\n",
       "      <th>clean lyrics</th>\n",
       "      <th>embedded</th>\n",
       "    </tr>\n",
       "  </thead>\n",
       "  <tbody>\n",
       "    <tr>\n",
       "      <th>0</th>\n",
       "      <td>are you alright i m alright i m quite alright ...</td>\n",
       "      <td>[-0.09510867297649384, -0.052341993898153305, ...</td>\n",
       "    </tr>\n",
       "    <tr>\n",
       "      <th>1</th>\n",
       "      <td>we pick up in new york city i m tryna find a m...</td>\n",
       "      <td>[-0.020572615787386894, -0.07993195205926895, ...</td>\n",
       "    </tr>\n",
       "    <tr>\n",
       "      <th>2</th>\n",
       "      <td>baby you a song you make me wanna roll my wind...</td>\n",
       "      <td>[-0.027859799563884735, -0.03636902943253517, ...</td>\n",
       "    </tr>\n",
       "    <tr>\n",
       "      <th>3</th>\n",
       "      <td>baby last night was hands down one of the best...</td>\n",
       "      <td>[-0.02230849675834179, -0.0188309233635664, 0....</td>\n",
       "    </tr>\n",
       "    <tr>\n",
       "      <th>4</th>\n",
       "      <td>you make me feel so young you make me feel as ...</td>\n",
       "      <td>[-0.03834763541817665, -0.03280093893408775, 0...</td>\n",
       "    </tr>\n",
       "  </tbody>\n",
       "</table>\n",
       "</div>"
      ],
      "text/plain": [
       "                                        clean lyrics  \\\n",
       "0  are you alright i m alright i m quite alright ...   \n",
       "1  we pick up in new york city i m tryna find a m...   \n",
       "2  baby you a song you make me wanna roll my wind...   \n",
       "3  baby last night was hands down one of the best...   \n",
       "4  you make me feel so young you make me feel as ...   \n",
       "\n",
       "                                            embedded  \n",
       "0  [-0.09510867297649384, -0.052341993898153305, ...  \n",
       "1  [-0.020572615787386894, -0.07993195205926895, ...  \n",
       "2  [-0.027859799563884735, -0.03636902943253517, ...  \n",
       "3  [-0.02230849675834179, -0.0188309233635664, 0....  \n",
       "4  [-0.03834763541817665, -0.03280093893408775, 0...  "
      ]
     },
     "execution_count": 43,
     "metadata": {},
     "output_type": "execute_result"
    }
   ],
   "source": [
    "df_vector_bge = embed_bge(df_25k_bge)\n",
    "df_vector_bge.head()"
   ]
  },
  {
   "cell_type": "code",
   "execution_count": 45,
   "id": "eec002d0-7144-45dc-a77f-afc4f78f93b4",
   "metadata": {},
   "outputs": [],
   "source": [
    "df_vector_bge.to_parquet(\"vscode_vectors_bge.parquet\", index=False)\n",
    "df_vector_bge.to_csv(\"vscode_vectors_bge.csv\", index=False, encoding=\"utf-8\")\n"
   ]
  },
  {
   "cell_type": "code",
   "execution_count": 47,
   "id": "199083f2-046e-47bf-922a-fdea69dc41c3",
   "metadata": {},
   "outputs": [
    {
     "data": {
      "text/plain": [
       "array([[-9.5108673e-02, -5.2341994e-02,  2.9881362e-02, ...,\n",
       "         4.3037690e-02, -1.4177671e-02, -2.1796750e-02],\n",
       "       [-2.0572616e-02, -7.9931952e-02,  4.0240899e-02, ...,\n",
       "         1.6816258e-02, -7.6525152e-02, -1.5770495e-02],\n",
       "       [-2.7859800e-02, -3.6369029e-02,  7.4195705e-02, ...,\n",
       "         3.5594774e-03, -3.9827251e-03,  1.5726753e-02],\n",
       "       ...,\n",
       "       [-1.1820935e-04,  1.6659580e-02,  2.2597142e-02, ...,\n",
       "         8.7751560e-02, -9.5417341e-03, -2.7034365e-02],\n",
       "       [-7.4566141e-02, -1.4757029e-02,  3.7393596e-02, ...,\n",
       "         3.9951306e-02,  2.7222736e-03, -4.2417862e-02],\n",
       "       [-3.5246432e-02, -2.8395848e-02,  2.8976936e-02, ...,\n",
       "         1.2137246e-01, -4.1237038e-02, -1.7751783e-02]], dtype=float32)"
      ]
     },
     "execution_count": 47,
     "metadata": {},
     "output_type": "execute_result"
    }
   ],
   "source": [
    "array = np.vstack(df_vector_bge[\"embedded\"].values).astype(\"float32\")\n",
    "array"
   ]
  },
  {
   "cell_type": "code",
   "execution_count": 49,
   "id": "3ff590a5-0519-43c1-b6c0-ce6f6479fdf3",
   "metadata": {},
   "outputs": [
    {
     "name": "stdout",
     "output_type": "stream",
     "text": [
      "All vectors normalized: True\n"
     ]
    }
   ],
   "source": [
    "norms = np.linalg.norm(array, axis=1)\n",
    "all_normalized = np.allclose(norms, 1.0, atol=1e-6)  # Tolerance of 1e-6\n",
    "print(\"All vectors normalized:\", all_normalized)\n"
   ]
  },
  {
   "cell_type": "code",
   "execution_count": 51,
   "id": "04cf9833-7e1f-4c73-acda-d1eb79b6f22e",
   "metadata": {},
   "outputs": [
    {
     "data": {
      "text/plain": [
       "384"
      ]
     },
     "execution_count": 51,
     "metadata": {},
     "output_type": "execute_result"
    }
   ],
   "source": [
    "dim = array.shape[1]\n",
    "dim"
   ]
  },
  {
   "cell_type": "code",
   "execution_count": 53,
   "id": "6588a188-9aca-42c4-98f7-8d503f4c4c39",
   "metadata": {},
   "outputs": [
    {
     "data": {
      "text/plain": [
       "<faiss.swigfaiss_avx2.IndexHNSWFlat; proxy of <Swig Object of type 'faiss::IndexHNSWFlat *' at 0x000002459BFF64F0> >"
      ]
     },
     "execution_count": 53,
     "metadata": {},
     "output_type": "execute_result"
    }
   ],
   "source": [
    "index = faiss.IndexHNSWFlat(dim, 48, faiss.METRIC_INNER_PRODUCT)\n",
    "index"
   ]
  },
  {
   "cell_type": "code",
   "execution_count": 57,
   "id": "1bbbdaf5-5cbe-41fb-97e3-7d876babd0b5",
   "metadata": {},
   "outputs": [],
   "source": [
    "index.hnsw.efConstruction = 500\n",
    "index.hnsw.efSearch = 64\n"
   ]
  },
  {
   "cell_type": "code",
   "execution_count": 59,
   "id": "d7b7f8b3-a5a4-4d08-b143-c73db47ffead",
   "metadata": {},
   "outputs": [
    {
     "data": {
      "text/plain": [
       "25000"
      ]
     },
     "execution_count": 59,
     "metadata": {},
     "output_type": "execute_result"
    }
   ],
   "source": [
    "index.add(array)  \n",
    "index.ntotal"
   ]
  },
  {
   "cell_type": "code",
   "execution_count": 67,
   "id": "0b78ca37-b491-4981-8194-d97d1ba838a0",
   "metadata": {},
   "outputs": [],
   "source": [
    "def query_model_bge(text):\n",
    "    clean_text(text)\n",
    "    query = model_bge.encode(text, convert_to_numpy=True)\n",
    "    D, I = index.search(np.expand_dims(query, axis=0), k=5)\n",
    "    return I, D"
   ]
  },
  {
   "cell_type": "code",
   "execution_count": 69,
   "id": "16c46fef-0133-4a7f-b34f-0828fbfa3382",
   "metadata": {},
   "outputs": [
    {
     "name": "stdout",
     "output_type": "stream",
     "text": [
      "Top 5 Similar Indices: [[    0  9169 10696 18536  8237]]\n",
      "Similarity Scores: [[1.         0.86578244 0.8650054  0.8633137  0.8606238 ]]\n"
     ]
    }
   ],
   "source": [
    "I, D = query_model_bge(\"are you alright i m alright i m quite alright and my money s right countin them bands all way to the top til they be fallin over countin them bands on my way to the top til we fallin over i don t really care if you cry on the real you shoulda never lied shoulda saw the way she looked me in my eyes she said baby i am not afraid to die push me to the edge all my friends are dead push me to the edge all my friends are dead push me to the edge all my friends are dead push me to the edge phantom that s all red inside all white like somethin you ride a sled down i just want that head my brittany got mad i m barely her man now everybody got the same swag now watch the way that i tear it down stackin my bands all the way to the top all the way til my bands fallin over every time that you leave your spot your girlfriend call me like come on over i like the way that she treat me gon leave you won t leave me i call it that casanova she say i m insane yeah i might blow my brain out xanny help the pain yeah please xanny make it go away i m committed not addicted but it keep control of me all the pain now i can t feel it i swear that it s slowin me yeah i don t really care if you cry on the real you shoulda never lied saw the way she looked me in my eyes she said i am not afraid to die all my friends are dead push me to the edge all my friends are dead yeah ooh push me to the edge all my friends are dead yeah all my friends are dead yeah that is not your swag i swear you fake hard now these niggas wanna take my cadence rain on em thunderstorm rain on em medicine lil nigga take some fast car nascar race on em in the club ain t got no ones then we would beg them clothes from overseas got the racks and they all c notes you is not a g though lookin at you stackin all your money it all green though i was countin that and these all twenties that s a g roll she say you re the worst you re the worst i cannot die because this my universe i don t really care if you cry on the real you shoulda never lied shoulda saw the way she looked me in my eyes she said baby i am not afraid to die push me to the edge all my friends are dead push me to the edge all my friends are dead push me to the edge all my friends are dead push me to the edge\")\n",
    "print(\"Top 5 Similar Indices:\", I)\n",
    "print(\"Similarity Scores:\", D)"
   ]
  },
  {
   "cell_type": "code",
   "execution_count": 73,
   "id": "6d2595d1-7cc9-457c-bf73-55883e57d373",
   "metadata": {},
   "outputs": [
    {
     "name": "stderr",
     "output_type": "stream",
     "text": [
      "100%|████████████████████████████████████████████████████████████████████████████████| 500/500 [00:14<00:00, 33.90it/s]\n"
     ]
    }
   ],
   "source": [
    "import pandas as pd\n",
    "import numpy as np\n",
    "from tqdm import tqdm\n",
    "import random\n",
    "# Step 1: Sample 200 random rows from your dataframe\n",
    "sample_df = df_vector_bge.sample(n=500, random_state=36).reset_index(drop=True)\n",
    "\n",
    "# Step 2: Create a results list\n",
    "\n",
    "\n",
    "results = []\n",
    "\n",
    "for i, row in tqdm(sample_df.iterrows(), total=sample_df.shape[0]):\n",
    "    full_lyric = row[\"clean lyrics\"]\n",
    "    words = full_lyric.split()\n",
    "\n",
    "    # Skip if lyric is too short\n",
    "    if len(words) < 20:\n",
    "        continue\n",
    "\n",
    "    # Random 15-word segment from the middle\n",
    "    start_idx = random.randint(5, len(words) - 15 - 1)\n",
    "    mid_lyric = \" \".join(words[start_idx:start_idx + 15])\n",
    "\n",
    "    I_1, D_1 = query_model_bge(mid_lyric)\n",
    "\n",
    "    for rank, (score, idx) in enumerate(zip(D_1[0], I_1[0]), start=1):\n",
    "        result = {\n",
    "            \"query_index\": i,\n",
    "            \"query_snippet\": mid_lyric,\n",
    "            \"original_full_lyric\": full_lyric,\n",
    "            \"result_rank\": rank,\n",
    "            \"result_index\": idx,\n",
    "            \"result_lyric\": df_vector_bge.iloc[idx][\"clean lyrics\"],\n",
    "            \"result_artist\": df_vector_bge.iloc[idx].get(\"artist_name\", \"Unknown\"),\n",
    "            \"similarity_score\": float(score),\n",
    "        }\n",
    "        results.append(result)\n",
    "\n",
    "results_df_bge = pd.DataFrame(results)\n",
    "results_df_bge.to_csv(\"bge_middle_snippet_similarity_results_bge.csv\", index=False)\n"
   ]
  },
  {
   "cell_type": "code",
   "execution_count": 75,
   "id": "4b130d87-5d0e-47c6-938b-8dbedc621f1a",
   "metadata": {},
   "outputs": [
    {
     "name": "stdout",
     "output_type": "stream",
     "text": [
      "Average Top Similarity Score: 0.7554\n"
     ]
    }
   ],
   "source": [
    "def average_top_similarity(results_df):\n",
    "    # Group by each query\n",
    "    grouped = results_df.groupby(\"query_index\")\n",
    "    \n",
    "    # For each group, take the top-ranked result (rank 1) and get its score\n",
    "    top_scores = grouped.apply(lambda x: x.sort_values(\"result_rank\").iloc[0][\"similarity_score\"])\n",
    "    \n",
    "    # Return the average\n",
    "    return top_scores.mean()\n",
    "avg_score = average_top_similarity(results_df_bge)\n",
    "print(f\"Average Top Similarity Score: {avg_score:.4f}\")\n"
   ]
  },
  {
   "cell_type": "code",
   "execution_count": 39,
   "id": "59fc2433-35a6-4b5b-9cae-f1d32e579db3",
   "metadata": {},
   "outputs": [],
   "source": [
    "def embed(df):\n",
    "    texts = df[\"clean lyrics\"].tolist()\n",
    "    embeddings = model.encode(texts, batch_size=32, show_progress_bar=True)\n",
    "    df[\"embedded\"] = embeddings.tolist()\n",
    "    return df\n"
   ]
  },
  {
   "cell_type": "code",
   "execution_count": 43,
   "id": "4f9cb548-1213-42c1-9072-a13078999a2d",
   "metadata": {},
   "outputs": [],
   "source": [
    "df_vector.to_parquet(\"vscode_vectors.parquet\", index=False)\n"
   ]
  },
  {
   "cell_type": "code",
   "execution_count": 47,
   "id": "f671ef8d-7989-40cf-b9d7-c37ba153b99b",
   "metadata": {},
   "outputs": [],
   "source": [
    "df_vector.to_csv(\"vscode_vectors.csv\", index=False, encoding=\"utf-8\")\n"
   ]
  },
  {
   "cell_type": "code",
   "execution_count": null,
   "id": "9404466b-b197-48b7-8c83-3a1d52d2ecca",
   "metadata": {},
   "outputs": [],
   "source": [
    "#Inconsolata"
   ]
  },
  {
   "cell_type": "code",
   "execution_count": 266,
   "id": "4e686d74-b7e4-4769-b935-1074975deafd",
   "metadata": {},
   "outputs": [
    {
     "data": {
      "text/plain": [
       "array([[-0.02152613, -0.1130375 ,  0.00474123, ...,  0.00775055,\n",
       "         0.02242729, -0.06069924],\n",
       "       [-0.03519551, -0.09525009,  0.03990062, ..., -0.05164747,\n",
       "        -0.05297656, -0.09399048],\n",
       "       [-0.1212237 , -0.04789452, -0.0203167 , ...,  0.06081615,\n",
       "         0.02501846, -0.07551719],\n",
       "       ...,\n",
       "       [-0.07979702, -0.16962808,  0.05023401, ..., -0.02455066,\n",
       "         0.01703537, -0.02705456],\n",
       "       [-0.00831627, -0.02866414,  0.0432986 , ..., -0.0284607 ,\n",
       "         0.01383475, -0.08256452],\n",
       "       [-0.06405386, -0.06251999,  0.02244229, ...,  0.05117697,\n",
       "        -0.09302013, -0.06531898]], dtype=float32)"
      ]
     },
     "execution_count": 266,
     "metadata": {},
     "output_type": "execute_result"
    }
   ],
   "source": [
    "array = np.vstack(df_vector[\"embedded\"].values).astype(\"float32\")\n",
    "array"
   ]
  },
  {
   "cell_type": "code",
   "execution_count": 277,
   "id": "9493b044-76ed-40fe-adc7-31e79ce67bd0",
   "metadata": {},
   "outputs": [
    {
     "name": "stdout",
     "output_type": "stream",
     "text": [
      "All vectors normalized: True\n"
     ]
    }
   ],
   "source": [
    "norms = np.linalg.norm(array, axis=1)\n",
    "all_normalized = np.allclose(norms, 1.0, atol=1e-6)  # Tolerance of 1e-6\n",
    "print(\"All vectors normalized:\", all_normalized)\n"
   ]
  },
  {
   "cell_type": "code",
   "execution_count": 279,
   "id": "1eefada7-2024-4a9c-852d-adea552dcf27",
   "metadata": {},
   "outputs": [
    {
     "data": {
      "text/plain": [
       "384"
      ]
     },
     "execution_count": 279,
     "metadata": {},
     "output_type": "execute_result"
    }
   ],
   "source": [
    "dim = array.shape[1]\n",
    "dim"
   ]
  },
  {
   "cell_type": "code",
   "execution_count": 323,
   "id": "caf456b2-fa1c-4ede-b38e-faf2633a1fa2",
   "metadata": {},
   "outputs": [
    {
     "data": {
      "text/plain": [
       "<faiss.swigfaiss_avx2.IndexHNSWFlat; proxy of <Swig Object of type 'faiss::IndexHNSWFlat *' at 0x0000020A5FE78150> >"
      ]
     },
     "execution_count": 323,
     "metadata": {},
     "output_type": "execute_result"
    }
   ],
   "source": [
    "index = faiss.IndexHNSWFlat(dim, 48, faiss.METRIC_INNER_PRODUCT)\n",
    "index"
   ]
  },
  {
   "cell_type": "code",
   "execution_count": 325,
   "id": "e2624d9f-4661-4716-9300-7bee84592d78",
   "metadata": {},
   "outputs": [],
   "source": [
    "index.hnsw.efConstruction = 500\n",
    "index.hnsw.efSearch = 64\n"
   ]
  },
  {
   "cell_type": "code",
   "execution_count": 327,
   "id": "2c3fb608-5e8c-430c-a67c-3176219bf56a",
   "metadata": {},
   "outputs": [],
   "source": [
    "index.add(array)  \n"
   ]
  },
  {
   "cell_type": "code",
   "execution_count": 328,
   "id": "7d02576f-a21e-4c24-a8ff-7849022e1416",
   "metadata": {},
   "outputs": [
    {
     "data": {
      "text/plain": [
       "25000"
      ]
     },
     "execution_count": 328,
     "metadata": {},
     "output_type": "execute_result"
    }
   ],
   "source": [
    "index.ntotal"
   ]
  },
  {
   "cell_type": "code",
   "execution_count": 332,
   "id": "666025bc-54a9-4cc5-b2ed-a64f93c4dd33",
   "metadata": {},
   "outputs": [],
   "source": [
    "def query_model(text):\n",
    "    clean_text(text)\n",
    "    query = model.encode(text, convert_to_numpy=True)\n",
    "    D, I = index.search(np.expand_dims(query, axis=0), k=5)\n",
    "    return I, D"
   ]
  },
  {
   "cell_type": "code",
   "execution_count": 317,
   "id": "ce88ecac-0853-4c53-8153-0717c85d2cfb",
   "metadata": {},
   "outputs": [
    {
     "name": "stdout",
     "output_type": "stream",
     "text": [
      "Top 5 Similar Indices: [[13254 21182 23699   453 23032]]\n",
      "Similarity Scores: [[1.         0.62504894 0.62033015 0.61631763 0.61248696]]\n"
     ]
    }
   ],
   "source": [
    "I, D = query_model(\"gals hes a fine fine thang lord knows he sure is fine gals i cant help myself i m going to do it til the cows come home and when my goose gets loose she s gonna know i m still be getting it on with him around now im gonna move it slow like a mule im gonna love him funky free and foolish im gonna do my best and try hard to get him just take a look at that child hes enough to drive a poor gal wild take him in check him out im gonna im gonna shoo b doop all night im gonna try him out until the sunrise and when clock strikes twelve gals hes a fine fine thang lord knows he sure is fine gals i cant help myself  yes im gonna do it im gonna do it til the cows come home im gonna do it til the chicken croaks im gonna move it slow like a mule im gonna do it yes im gonna do it gals hes a fine fine thang lord knows lord knows that boy hes sure enough fine\")\n",
    "print(\"Top 5 Similar Indices:\", I)\n",
    "print(\"Similarity Scores:\", D)"
   ]
  },
  {
   "cell_type": "code",
   "execution_count": 297,
   "id": "6078245c-dbcf-4825-a6e8-6bd8d4d18a9b",
   "metadata": {},
   "outputs": [],
   "source": [
    "df_25k.reset_index(drop=True, inplace=True)\n"
   ]
  },
  {
   "cell_type": "code",
   "execution_count": 299,
   "id": "c296321a-7d1d-4a11-9067-b77176527038",
   "metadata": {},
   "outputs": [
    {
     "data": {
      "text/plain": [
       "lyrics          ooh ooh ooh keep on truckin baby i got to keep...\n",
       "artist_name                                       Eddie Kendricks\n",
       "clean lyrics    ooh ooh ooh keep on truckin baby i got to keep...\n",
       "embedded        [-0.12439936399459839, -0.13273802399635315, 0...\n",
       "Name: 12750, dtype: object"
      ]
     },
     "execution_count": 299,
     "metadata": {},
     "output_type": "execute_result"
    }
   ],
   "source": [
    "df_25k.iloc[I[0][0]]"
   ]
  },
  {
   "cell_type": "code",
   "execution_count": 309,
   "id": "a40f7785-fac4-4257-a286-943dd165e71e",
   "metadata": {},
   "outputs": [
    {
     "data": {
      "text/plain": [
       "lyrics          ooh ooh ooh keep on truckin baby i got to keep...\n",
       "artist_name                                       Eddie Kendricks\n",
       "clean lyrics    ooh ooh ooh keep on truckin baby i got to keep...\n",
       "embedded        [-0.12439936399459839, -0.13273802399635315, 0...\n",
       "Name: 12750, dtype: object"
      ]
     },
     "execution_count": 309,
     "metadata": {},
     "output_type": "execute_result"
    }
   ],
   "source": [
    "df_25k.iloc[12750]\n",
    "df_vector.iloc[12750]"
   ]
  },
  {
   "cell_type": "code",
   "execution_count": 334,
   "id": "cf85c871-7f06-46b7-9160-684b9c4d90a1",
   "metadata": {},
   "outputs": [
    {
     "name": "stderr",
     "output_type": "stream",
     "text": [
      "100%|████████████████████████████████████████████████████████████████████████████████| 500/500 [00:10<00:00, 46.67it/s]\n"
     ]
    }
   ],
   "source": [
    "import pandas as pd\n",
    "import numpy as np\n",
    "from tqdm import tqdm\n",
    "import random\n",
    "# Step 1: Sample 200 random rows from your dataframe\n",
    "sample_df = df_vector.sample(n=500, random_state=36).reset_index(drop=True)\n",
    "\n",
    "# Step 2: Create a results list\n",
    "\n",
    "\n",
    "results = []\n",
    "\n",
    "for i, row in tqdm(sample_df.iterrows(), total=sample_df.shape[0]):\n",
    "    full_lyric = row[\"clean lyrics\"]\n",
    "    words = full_lyric.split()\n",
    "\n",
    "    if len(words) < 20:\n",
    "        continue\n",
    "\n",
    "    start_idx = random.randint(5, len(words) - 15 - 1)\n",
    "    mid_lyric = \" \".join(words[start_idx:start_idx + 15])\n",
    "\n",
    "    I_1, D_1 = query_model(mid_lyric)\n",
    "\n",
    "    for rank, (score, idx) in enumerate(zip(D_1[0], I_1[0]), start=1):\n",
    "        result = {\n",
    "            \"query_index\": i,\n",
    "            \"query_snippet\": mid_lyric,\n",
    "            \"original_full_lyric\": full_lyric,\n",
    "            \"result_rank\": rank,\n",
    "            \"result_index\": idx,\n",
    "            \"result_lyric\": df_vector.iloc[idx][\"clean lyrics\"],\n",
    "            \"result_artist\": df_vector.iloc[idx].get(\"artist_name\", \"Unknown\"),\n",
    "            \"similarity_score\": float(score),\n",
    "        }\n",
    "        results.append(result)\n",
    "\n",
    "results_df = pd.DataFrame(results)\n",
    "results_df.to_csv(\"middle_snippet_similarity_results.csv\", index=False)\n"
   ]
  },
  {
   "cell_type": "code",
   "execution_count": 336,
   "id": "7645175e-59a1-4525-b100-db6110c64390",
   "metadata": {},
   "outputs": [
    {
     "name": "stdout",
     "output_type": "stream",
     "text": [
      "Average Top Similarity Score: 0.5368\n"
     ]
    }
   ],
   "source": [
    "def average_top_similarity(results_df):\n",
    "    \n",
    "    grouped = results_df.groupby(\"query_index\")\n",
    "    \n",
    "    top_scores = grouped.apply(lambda x: x.sort_values(\"result_rank\").iloc[0][\"similarity_score\"])\n",
    "    \n",
    "    return top_scores.mean()\n",
    "avg_score = average_top_similarity(results_df)\n",
    "print(f\"Average Top Similarity Score: {avg_score:.4f}\")\n"
   ]
  }
 ],
 "metadata": {
  "kernelspec": {
   "display_name": "Python 3 (ipykernel)",
   "language": "python",
   "name": "python3"
  },
  "language_info": {
   "codemirror_mode": {
    "name": "ipython",
    "version": 3
   },
   "file_extension": ".py",
   "mimetype": "text/x-python",
   "name": "python",
   "nbconvert_exporter": "python",
   "pygments_lexer": "ipython3",
   "version": "3.11.7"
  }
 },
 "nbformat": 4,
 "nbformat_minor": 5
}
